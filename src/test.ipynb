{
 "cells": [
  {
   "cell_type": "code",
   "execution_count": 81,
   "metadata": {},
   "outputs": [],
   "source": [
    "import requests\n",
    "from bs4 import BeautifulSoup as bs\n",
    "import pandas as pd\n",
    "import re\n",
    "from datetime import datetime\n",
    "import os\n",
    "import sys\n",
    "import csv\n",
    "import numpy as np"
   ]
  },
  {
   "attachments": {},
   "cell_type": "markdown",
   "metadata": {},
   "source": [
    "Start here:\n",
    "\n",
    "https://www.hasznaltauto.hu/talalatilista/PCOG2VCBN3RTADH4RNPGAO2JXNKY7OYILJQBCFCYUBLYHDIZI6YSIBUSNQ2CT6XXUVWKPFOSTRGAYKMSGMSA24XREA73YLBLFE5ARWESKOYMCQJ4GJLEVYOPNBIJ7IAPGRBEWKKA46AZWGO7FPLWAQB7IAB74LA635SDCJYZDDLOA2VDNRGFESBBVY67BHT2KZJGB37K5TO6NFRDH352VT2VFXUFAH6ATF7MYI2FHF7O7JLIYGA52KWQZLPQRKBCKPIGI37YXDTBWOWUPMGHJQ75EAC7OR26AUGKDPUUTFBQVEMJINVTQBBYYDODJU65GEHZN25ZUEMSXP5QQR3AUXRIGMTYPPWXYHDRUTFALKG4K7S5J7RLO553N74VRJJHGL4A7XNAW3UFHVJHBVP7MJ2H6ZKTKSBJRGFI23PPAOM37SUHC5DYNARC7POCIGPOYYCK7T43RQ6QXJH43JGQ7FLN25FAO5FJQ3OLEAOXIGWZVGOLNLCKHNGUUDLLGY6BR3S6KRKQY7PB6UC7NUKA4PBCBCLV2Y2OKVIS473YWN6WGKJ3GXYABM3E3TDI5VZ6QTHCJWOKUIUH5OVHOR33CWBRA5YPGPI7B7MBHNDZFXIBVDQUYQR4RFP4KDJZTDCSFBMU45QV5VVLEF6RLZGPMMW2ZPE6M4L7WLA2F3GRW3UHVF5SFYLXHH5ZH67THTWCBNEV3TOLN7QIU7FP2HRU6F7TMLKTLGRTOWIQFB36RQBYT7YIAMQVW7IOE3X46HO7J6L6E53RE5UKPXVTJVQRINLWEEXJPL7BJVB7MKGW2A6R7ASVFHGEXXLJMXQCUNFAHHDH5MQK4OO4PVJ7O5SE6Q7KMOO5AH5PTIP4RUU6DS2VSFU6EHTUA62CL7X4RNNAJXLND7PUMPRT7QJX7I44TTPX6GD3NPKBTM2PN6I7PAW3F6Y"
   ]
  },
  {
   "cell_type": "code",
   "execution_count": 82,
   "metadata": {},
   "outputs": [],
   "source": [
    "filename = '../data/raw/cars.csv'\n",
    "if not os.path.exists(filename):\n",
    "    colnames = ['run_datetime', 'query_name', 'make', 'model', 'link', 'price', 'fuel', 'year', 'engine_size', 'engine_power', 'mileage']\n",
    "    with open(filename, 'w') as file:\n",
    "        writer = csv.writer(file)\n",
    "        writer.writerow(colnames)"
   ]
  },
  {
   "cell_type": "code",
   "execution_count": 83,
   "metadata": {},
   "outputs": [],
   "source": [
    "name = 'Ford Focus'\n",
    "url = 'https://www.hasznaltauto.hu/talalatilista/PCOG2VCBN3RTADH4RNPGAO2JXNKY7OYILJQBCFCYUBLYHDIZI6YSIBUSNQ2CT6XXUVWKPFOSTRGAYKMSGMSA24XREA73YLBLFE5ARWESKOYMCQJ4GJLEVYOPNBIJ7IAPGRBEWKKA46AZWGO7FPLWAQB7IAB74LA635SDCJYZDDLOA2VDNRGFESBBVY67BHT2KZJGB37K5TO6NFRDH352VT2VFXUFAH6ATF7MYI2FHF7O7JLIYGA52KWQZLPQRKBCKPIGI37YXDTBWOWUPMGHJQ75EAC7OR26AUGKDPUUTFBQVEMJINVTQBBYYDODJU65GEHZN25ZUEMSXP5QQR3AUXRIGMTYPPWXYHDRUTFALKG4K7S5J7RLO553N74VRJJHGL4A7XNAW3UFHVJHBVP7MJ2H6ZKTKSBJRGFI23PPAOM37SUHC5DYNARC7POCIGPOYYCK7T43RQ6QXJH43JGQ7FLN25FAO5FJQ3OLEAOXIGWZVGOLNLCKHNGUUDLLGY6BR3S6KRKQY7PB6UC7NUKA4PBCBCLV2Y2OKVIS473YWN6WGKJ3GXYABM3E3TDI5VZ6QTHCJWOKUIUH5OVHOR33CWBRA5YPGPI7B7MBHNDZFXIBVDQUYQR4RFP4KDJZTDCSFBMU45QV5VVLEF6RLZGPMMW2ZPE6M4L7WLA2F3GRW3UHVF5SFYLXHH5ZH67THTWCBNEV3TOLN7QIU7FP2HRU6F7TMLKTLGRTOWIQFB36RQBYT7YIAMQVW7IOE3X46HO7J6L6E53RE5UKPXVTJVQRINLWEEXJPL7BJVB7MKGW2A6R7ASVFHGEXXLJMXQCUNFAHHDH5MQK4OO4PVJ7O5SE6Q7KMOO5AH5PTIP4RUU6DS2VSFU6EHTUA62CL7X4RNNAJXLND7PUMPRT7QJX7I44TTPX6GD3NPKBTM2PN6I7PAW3F6Y'"
   ]
  },
  {
   "cell_type": "code",
   "execution_count": 84,
   "metadata": {},
   "outputs": [
    {
     "name": "stdout",
     "output_type": "stream",
     "text": [
      "1\n"
     ]
    },
    {
     "name": "stderr",
     "output_type": "stream",
     "text": [
      "/Users/mveres/opt/miniconda3/lib/python3.9/site-packages/urllib3/connectionpool.py:1043: InsecureRequestWarning: Unverified HTTPS request is being made to host 'www.hasznaltauto.hu'. Adding certificate verification is strongly advised. See: https://urllib3.readthedocs.io/en/1.26.x/advanced-usage.html#ssl-warnings\n",
      "  warnings.warn(\n"
     ]
    },
    {
     "name": "stdout",
     "output_type": "stream",
     "text": [
      "2\n"
     ]
    },
    {
     "name": "stderr",
     "output_type": "stream",
     "text": [
      "/Users/mveres/opt/miniconda3/lib/python3.9/site-packages/urllib3/connectionpool.py:1043: InsecureRequestWarning: Unverified HTTPS request is being made to host 'www.hasznaltauto.hu'. Adding certificate verification is strongly advised. See: https://urllib3.readthedocs.io/en/1.26.x/advanced-usage.html#ssl-warnings\n",
      "  warnings.warn(\n"
     ]
    },
    {
     "name": "stdout",
     "output_type": "stream",
     "text": [
      "3\n"
     ]
    },
    {
     "name": "stderr",
     "output_type": "stream",
     "text": [
      "/Users/mveres/opt/miniconda3/lib/python3.9/site-packages/urllib3/connectionpool.py:1043: InsecureRequestWarning: Unverified HTTPS request is being made to host 'www.hasznaltauto.hu'. Adding certificate verification is strongly advised. See: https://urllib3.readthedocs.io/en/1.26.x/advanced-usage.html#ssl-warnings\n",
      "  warnings.warn(\n"
     ]
    },
    {
     "name": "stdout",
     "output_type": "stream",
     "text": [
      "4\n"
     ]
    },
    {
     "name": "stderr",
     "output_type": "stream",
     "text": [
      "/Users/mveres/opt/miniconda3/lib/python3.9/site-packages/urllib3/connectionpool.py:1043: InsecureRequestWarning: Unverified HTTPS request is being made to host 'www.hasznaltauto.hu'. Adding certificate verification is strongly advised. See: https://urllib3.readthedocs.io/en/1.26.x/advanced-usage.html#ssl-warnings\n",
      "  warnings.warn(\n"
     ]
    },
    {
     "name": "stdout",
     "output_type": "stream",
     "text": [
      "5\n"
     ]
    },
    {
     "name": "stderr",
     "output_type": "stream",
     "text": [
      "/Users/mveres/opt/miniconda3/lib/python3.9/site-packages/urllib3/connectionpool.py:1043: InsecureRequestWarning: Unverified HTTPS request is being made to host 'www.hasznaltauto.hu'. Adding certificate verification is strongly advised. See: https://urllib3.readthedocs.io/en/1.26.x/advanced-usage.html#ssl-warnings\n",
      "  warnings.warn(\n"
     ]
    },
    {
     "name": "stdout",
     "output_type": "stream",
     "text": [
      "6\n"
     ]
    },
    {
     "name": "stderr",
     "output_type": "stream",
     "text": [
      "/Users/mveres/opt/miniconda3/lib/python3.9/site-packages/urllib3/connectionpool.py:1043: InsecureRequestWarning: Unverified HTTPS request is being made to host 'www.hasznaltauto.hu'. Adding certificate verification is strongly advised. See: https://urllib3.readthedocs.io/en/1.26.x/advanced-usage.html#ssl-warnings\n",
      "  warnings.warn(\n"
     ]
    },
    {
     "name": "stdout",
     "output_type": "stream",
     "text": [
      "7\n"
     ]
    },
    {
     "name": "stderr",
     "output_type": "stream",
     "text": [
      "/Users/mveres/opt/miniconda3/lib/python3.9/site-packages/urllib3/connectionpool.py:1043: InsecureRequestWarning: Unverified HTTPS request is being made to host 'www.hasznaltauto.hu'. Adding certificate verification is strongly advised. See: https://urllib3.readthedocs.io/en/1.26.x/advanced-usage.html#ssl-warnings\n",
      "  warnings.warn(\n"
     ]
    },
    {
     "name": "stdout",
     "output_type": "stream",
     "text": [
      "8\n"
     ]
    },
    {
     "name": "stderr",
     "output_type": "stream",
     "text": [
      "/Users/mveres/opt/miniconda3/lib/python3.9/site-packages/urllib3/connectionpool.py:1043: InsecureRequestWarning: Unverified HTTPS request is being made to host 'www.hasznaltauto.hu'. Adding certificate verification is strongly advised. See: https://urllib3.readthedocs.io/en/1.26.x/advanced-usage.html#ssl-warnings\n",
      "  warnings.warn(\n"
     ]
    },
    {
     "name": "stdout",
     "output_type": "stream",
     "text": [
      "9\n"
     ]
    },
    {
     "name": "stderr",
     "output_type": "stream",
     "text": [
      "/Users/mveres/opt/miniconda3/lib/python3.9/site-packages/urllib3/connectionpool.py:1043: InsecureRequestWarning: Unverified HTTPS request is being made to host 'www.hasznaltauto.hu'. Adding certificate verification is strongly advised. See: https://urllib3.readthedocs.io/en/1.26.x/advanced-usage.html#ssl-warnings\n",
      "  warnings.warn(\n"
     ]
    },
    {
     "name": "stdout",
     "output_type": "stream",
     "text": [
      "10\n"
     ]
    },
    {
     "name": "stderr",
     "output_type": "stream",
     "text": [
      "/Users/mveres/opt/miniconda3/lib/python3.9/site-packages/urllib3/connectionpool.py:1043: InsecureRequestWarning: Unverified HTTPS request is being made to host 'www.hasznaltauto.hu'. Adding certificate verification is strongly advised. See: https://urllib3.readthedocs.io/en/1.26.x/advanced-usage.html#ssl-warnings\n",
      "  warnings.warn(\n"
     ]
    },
    {
     "name": "stdout",
     "output_type": "stream",
     "text": [
      "11\n"
     ]
    },
    {
     "name": "stderr",
     "output_type": "stream",
     "text": [
      "/Users/mveres/opt/miniconda3/lib/python3.9/site-packages/urllib3/connectionpool.py:1043: InsecureRequestWarning: Unverified HTTPS request is being made to host 'www.hasznaltauto.hu'. Adding certificate verification is strongly advised. See: https://urllib3.readthedocs.io/en/1.26.x/advanced-usage.html#ssl-warnings\n",
      "  warnings.warn(\n"
     ]
    },
    {
     "name": "stdout",
     "output_type": "stream",
     "text": [
      "12\n"
     ]
    },
    {
     "name": "stderr",
     "output_type": "stream",
     "text": [
      "/Users/mveres/opt/miniconda3/lib/python3.9/site-packages/urllib3/connectionpool.py:1043: InsecureRequestWarning: Unverified HTTPS request is being made to host 'www.hasznaltauto.hu'. Adding certificate verification is strongly advised. See: https://urllib3.readthedocs.io/en/1.26.x/advanced-usage.html#ssl-warnings\n",
      "  warnings.warn(\n"
     ]
    },
    {
     "name": "stdout",
     "output_type": "stream",
     "text": [
      "13\n"
     ]
    },
    {
     "name": "stderr",
     "output_type": "stream",
     "text": [
      "/Users/mveres/opt/miniconda3/lib/python3.9/site-packages/urllib3/connectionpool.py:1043: InsecureRequestWarning: Unverified HTTPS request is being made to host 'www.hasznaltauto.hu'. Adding certificate verification is strongly advised. See: https://urllib3.readthedocs.io/en/1.26.x/advanced-usage.html#ssl-warnings\n",
      "  warnings.warn(\n"
     ]
    },
    {
     "name": "stdout",
     "output_type": "stream",
     "text": [
      "14\n"
     ]
    },
    {
     "name": "stderr",
     "output_type": "stream",
     "text": [
      "/Users/mveres/opt/miniconda3/lib/python3.9/site-packages/urllib3/connectionpool.py:1043: InsecureRequestWarning: Unverified HTTPS request is being made to host 'www.hasznaltauto.hu'. Adding certificate verification is strongly advised. See: https://urllib3.readthedocs.io/en/1.26.x/advanced-usage.html#ssl-warnings\n",
      "  warnings.warn(\n"
     ]
    },
    {
     "name": "stdout",
     "output_type": "stream",
     "text": [
      "15\n"
     ]
    },
    {
     "name": "stderr",
     "output_type": "stream",
     "text": [
      "/Users/mveres/opt/miniconda3/lib/python3.9/site-packages/urllib3/connectionpool.py:1043: InsecureRequestWarning: Unverified HTTPS request is being made to host 'www.hasznaltauto.hu'. Adding certificate verification is strongly advised. See: https://urllib3.readthedocs.io/en/1.26.x/advanced-usage.html#ssl-warnings\n",
      "  warnings.warn(\n"
     ]
    },
    {
     "name": "stdout",
     "output_type": "stream",
     "text": [
      "16\n"
     ]
    },
    {
     "name": "stderr",
     "output_type": "stream",
     "text": [
      "/Users/mveres/opt/miniconda3/lib/python3.9/site-packages/urllib3/connectionpool.py:1043: InsecureRequestWarning: Unverified HTTPS request is being made to host 'www.hasznaltauto.hu'. Adding certificate verification is strongly advised. See: https://urllib3.readthedocs.io/en/1.26.x/advanced-usage.html#ssl-warnings\n",
      "  warnings.warn(\n"
     ]
    },
    {
     "name": "stdout",
     "output_type": "stream",
     "text": [
      "17\n"
     ]
    },
    {
     "name": "stderr",
     "output_type": "stream",
     "text": [
      "/Users/mveres/opt/miniconda3/lib/python3.9/site-packages/urllib3/connectionpool.py:1043: InsecureRequestWarning: Unverified HTTPS request is being made to host 'www.hasznaltauto.hu'. Adding certificate verification is strongly advised. See: https://urllib3.readthedocs.io/en/1.26.x/advanced-usage.html#ssl-warnings\n",
      "  warnings.warn(\n"
     ]
    },
    {
     "name": "stdout",
     "output_type": "stream",
     "text": [
      "18\n"
     ]
    },
    {
     "name": "stderr",
     "output_type": "stream",
     "text": [
      "/Users/mveres/opt/miniconda3/lib/python3.9/site-packages/urllib3/connectionpool.py:1043: InsecureRequestWarning: Unverified HTTPS request is being made to host 'www.hasznaltauto.hu'. Adding certificate verification is strongly advised. See: https://urllib3.readthedocs.io/en/1.26.x/advanced-usage.html#ssl-warnings\n",
      "  warnings.warn(\n"
     ]
    },
    {
     "name": "stdout",
     "output_type": "stream",
     "text": [
      "19\n"
     ]
    },
    {
     "name": "stderr",
     "output_type": "stream",
     "text": [
      "/Users/mveres/opt/miniconda3/lib/python3.9/site-packages/urllib3/connectionpool.py:1043: InsecureRequestWarning: Unverified HTTPS request is being made to host 'www.hasznaltauto.hu'. Adding certificate verification is strongly advised. See: https://urllib3.readthedocs.io/en/1.26.x/advanced-usage.html#ssl-warnings\n",
      "  warnings.warn(\n"
     ]
    },
    {
     "name": "stdout",
     "output_type": "stream",
     "text": [
      "20\n"
     ]
    },
    {
     "name": "stderr",
     "output_type": "stream",
     "text": [
      "/Users/mveres/opt/miniconda3/lib/python3.9/site-packages/urllib3/connectionpool.py:1043: InsecureRequestWarning: Unverified HTTPS request is being made to host 'www.hasznaltauto.hu'. Adding certificate verification is strongly advised. See: https://urllib3.readthedocs.io/en/1.26.x/advanced-usage.html#ssl-warnings\n",
      "  warnings.warn(\n"
     ]
    },
    {
     "name": "stdout",
     "output_type": "stream",
     "text": [
      "21\n"
     ]
    },
    {
     "name": "stderr",
     "output_type": "stream",
     "text": [
      "/Users/mveres/opt/miniconda3/lib/python3.9/site-packages/urllib3/connectionpool.py:1043: InsecureRequestWarning: Unverified HTTPS request is being made to host 'www.hasznaltauto.hu'. Adding certificate verification is strongly advised. See: https://urllib3.readthedocs.io/en/1.26.x/advanced-usage.html#ssl-warnings\n",
      "  warnings.warn(\n"
     ]
    },
    {
     "ename": "AssertionError",
     "evalue": "404",
     "output_type": "error",
     "traceback": [
      "\u001b[0;31m---------------------------------------------------------------------------\u001b[0m",
      "\u001b[0;31mAssertionError\u001b[0m                            Traceback (most recent call last)",
      "\u001b[1;32m/Users/mveres/Documents/Personal/hahu-scraper/src/test.ipynb Cell 5\u001b[0m in \u001b[0;36m<cell line: 3>\u001b[0;34m()\u001b[0m\n\u001b[1;32m      <a href='vscode-notebook-cell:/Users/mveres/Documents/Personal/hahu-scraper/src/test.ipynb#X12sZmlsZQ%3D%3D?line=3'>4</a>\u001b[0m \u001b[39mprint\u001b[39m(page_number)\n\u001b[1;32m      <a href='vscode-notebook-cell:/Users/mveres/Documents/Personal/hahu-scraper/src/test.ipynb#X12sZmlsZQ%3D%3D?line=4'>5</a>\u001b[0m page \u001b[39m=\u001b[39m requests\u001b[39m.\u001b[39mget(url \u001b[39m+\u001b[39m \u001b[39m'\u001b[39m\u001b[39m/page\u001b[39m\u001b[39m'\u001b[39m\u001b[39m+\u001b[39m\u001b[39mstr\u001b[39m(page_number), verify\u001b[39m=\u001b[39m\u001b[39mFalse\u001b[39;00m)\n\u001b[0;32m----> <a href='vscode-notebook-cell:/Users/mveres/Documents/Personal/hahu-scraper/src/test.ipynb#X12sZmlsZQ%3D%3D?line=5'>6</a>\u001b[0m \u001b[39massert\u001b[39;00m page\u001b[39m.\u001b[39mstatus_code \u001b[39m==\u001b[39m \u001b[39m200\u001b[39m, page\u001b[39m.\u001b[39mstatus_code\n\u001b[1;32m      <a href='vscode-notebook-cell:/Users/mveres/Documents/Personal/hahu-scraper/src/test.ipynb#X12sZmlsZQ%3D%3D?line=6'>7</a>\u001b[0m page_number \u001b[39m+\u001b[39m\u001b[39m=\u001b[39m \u001b[39m1\u001b[39m\n\u001b[1;32m      <a href='vscode-notebook-cell:/Users/mveres/Documents/Personal/hahu-scraper/src/test.ipynb#X12sZmlsZQ%3D%3D?line=8'>9</a>\u001b[0m soup \u001b[39m=\u001b[39m bs(page\u001b[39m.\u001b[39mcontent, \u001b[39m\"\u001b[39m\u001b[39mhtml.parser\u001b[39m\u001b[39m\"\u001b[39m)\n",
      "\u001b[0;31mAssertionError\u001b[0m: 404"
     ]
    }
   ],
   "source": [
    "page_number = 1\n",
    "next_page = True\n",
    "while next_page:\n",
    "    print(page_number)\n",
    "    page = requests.get(url + '/page'+str(page_number), verify=False)\n",
    "    assert page.status_code == 200, page.status_code\n",
    "    page_number += 1\n",
    "\n",
    "    soup = bs(page.content, \"html.parser\")\n",
    "    results = soup.find_all(\"div\", class_=re.compile(\"^row talalati-sor\"))\n",
    "    now = datetime.now()\n",
    "\n",
    "    now_day = now.strftime('%Y_%m_%d')\n",
    "\n",
    "    for r in results:\n",
    "        title = r.find(\"h3\").find('a')\n",
    "        link = title.get('href')\n",
    "        make, model = title.text.split()[:2]\n",
    "        \n",
    "        price = r.select(\"div[class^=pricefield-primary]\")[0].text.strip('Ft')\n",
    "        price = ''.join(price.split())\n",
    "        try:\n",
    "            price = int(price)\n",
    "        except:\n",
    "            price = np.nan\n",
    "    \n",
    "        details = r.find(\"div\", class_='talalatisor-info adatok')\n",
    "        fuel, year, engine_size, _, engine_power, mileage = details.text.split(',')\n",
    "        year = year.split('/')[0]\n",
    "        engine_size = int(''.join(engine_size.strip(\" cm³\").split()))\n",
    "        engine_power = int(''.join(engine_power.strip(\"LE\").split()))\n",
    "        mileage = int(''.join(mileage.strip('km').split()))\n",
    "        line = [now, name, make, model, link, price, fuel, year, engine_size, engine_power, mileage]\n",
    "        with open(filename, 'a') as file:\n",
    "            writer = csv.writer(file)\n",
    "            writer.writerow(line)"
   ]
  },
  {
   "cell_type": "code",
   "execution_count": null,
   "metadata": {},
   "outputs": [],
   "source": []
  }
 ],
 "metadata": {
  "kernelspec": {
   "display_name": "base",
   "language": "python",
   "name": "python3"
  },
  "language_info": {
   "codemirror_mode": {
    "name": "ipython",
    "version": 3
   },
   "file_extension": ".py",
   "mimetype": "text/x-python",
   "name": "python",
   "nbconvert_exporter": "python",
   "pygments_lexer": "ipython3",
   "version": "3.9.12"
  },
  "orig_nbformat": 4,
  "vscode": {
   "interpreter": {
    "hash": "9969fd5ced72d608a222f10b531e43121a3dc709a70ced751ae05e00551ade8b"
   }
  }
 },
 "nbformat": 4,
 "nbformat_minor": 2
}
